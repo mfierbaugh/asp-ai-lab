{
  "nbformat": 4,
  "nbformat_minor": 0,
  "metadata": {
    "colab": {
      "provenance": [],
      "authorship_tag": "ABX9TyP5k/BVS2v0rS8Crk13ireh",
      "include_colab_link": true
    },
    "kernelspec": {
      "name": "python3",
      "display_name": "Python 3"
    },
    "language_info": {
      "name": "python"
    }
  },
  "cells": [
    {
      "cell_type": "markdown",
      "metadata": {
        "id": "view-in-github",
        "colab_type": "text"
      },
      "source": [
        "<a href=\"https://colab.research.google.com/github/mfierbaugh/asp-ai-lab/blob/main/local_vectordb.ipynb\" target=\"_parent\"><img src=\"https://colab.research.google.com/assets/colab-badge.svg\" alt=\"Open In Colab\"/></a>"
      ]
    },
    {
      "cell_type": "markdown",
      "source": [
        "This lab will demonstrate how we can create a local vector database and store unstructured data.  We will then use a semantic search of the data that is stored."
      ],
      "metadata": {
        "id": "7Q6dmFi3Ys8p"
      }
    },
    {
      "cell_type": "code",
      "source": [],
      "metadata": {
        "id": "J--t30ZqY-xz"
      },
      "execution_count": null,
      "outputs": []
    }
  ]
}